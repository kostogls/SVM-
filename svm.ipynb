{
  "nbformat": 4,
  "nbformat_minor": 0,
  "metadata": {
    "accelerator": "GPU",
    "colab": {
      "name": "svm.ipynb",
      "provenance": [],
      "collapsed_sections": []
    },
    "kernelspec": {
      "display_name": "Python 3",
      "name": "python3"
    }
  },
  "cells": [
    {
      "cell_type": "code",
      "metadata": {
        "id": "XAFZvH3VrdLq"
      },
      "source": [
        "import keras\r\n",
        "from keras.datasets import mnist\r\n",
        "import numpy as np\r\n",
        "import matplotlib.pyplot as plt\r\n",
        "import time"
      ],
      "execution_count": null,
      "outputs": []
    },
    {
      "cell_type": "code",
      "metadata": {
        "id": "GzfW0vnXrpek",
        "colab": {
          "base_uri": "https://localhost:8080/"
        },
        "outputId": "f00899a6-6e52-4c75-8139-fbce1300da8b"
      },
      "source": [
        "(x_train,y_train),(x_test,y_test)=mnist.load_data()"
      ],
      "execution_count": null,
      "outputs": [
        {
          "output_type": "stream",
          "text": [
            "Downloading data from https://storage.googleapis.com/tensorflow/tf-keras-datasets/mnist.npz\n",
            "11493376/11490434 [==============================] - 0s 0us/step\n"
          ],
          "name": "stdout"
        }
      ]
    },
    {
      "cell_type": "code",
      "metadata": {
        "id": "kQ9rNbMW0oHO"
      },
      "source": [
        "# transform labels to int type\r\n",
        "y_train=y_train.astype(int)\r\n",
        "y_test=y_test.astype(int)"
      ],
      "execution_count": null,
      "outputs": []
    },
    {
      "cell_type": "code",
      "metadata": {
        "id": "ufROsQ0H1F8_"
      },
      "source": [
        "# for train set, change the odd labels with -1, and the even labels with 1\r\n",
        "y_train[(y_train%2)!=0]=-1\r\n",
        "y_train[(y_train%2)==0]=1"
      ],
      "execution_count": null,
      "outputs": []
    },
    {
      "cell_type": "code",
      "metadata": {
        "id": "2VeWTSI41pnM"
      },
      "source": [
        "# for test set, change the odd labels with -1, and the even labels with 1\r\n",
        "y_test[(y_test%2)!=0]=-1\r\n",
        "y_test[(y_test%2)==0]=1"
      ],
      "execution_count": null,
      "outputs": []
    },
    {
      "cell_type": "code",
      "metadata": {
        "id": "XgjTCQdGr00l"
      },
      "source": [
        "# preprocess dataset\r\n",
        "x_train = x_train.astype('float32')\r\n",
        "x_test = x_test.astype('float32')\r\n",
        "x_train = x_train / 255\r\n",
        "x_test = x_test / 255 "
      ],
      "execution_count": null,
      "outputs": []
    },
    {
      "cell_type": "code",
      "metadata": {
        "id": "hyi4HXDPv9Km"
      },
      "source": [
        "x_train=np.reshape(x_train,(len(x_train),784))\r\n",
        "x_test=np.reshape(x_test,(len(x_test),784))"
      ],
      "execution_count": null,
      "outputs": []
    },
    {
      "cell_type": "code",
      "metadata": {
        "id": "XFYdYV5L0HgJ"
      },
      "source": [
        "x_train=x_train[:5000]\r\n",
        "y_train=y_train[:5000]"
      ],
      "execution_count": null,
      "outputs": []
    },
    {
      "cell_type": "code",
      "metadata": {
        "id": "UPaNudr02yYe"
      },
      "source": [
        "x_test=x_test[:700]\r\n",
        "y_test=y_test[:700]"
      ],
      "execution_count": null,
      "outputs": []
    },
    {
      "cell_type": "code",
      "metadata": {
        "colab": {
          "base_uri": "https://localhost:8080/"
        },
        "id": "CAT5Xcx-1PWD",
        "outputId": "568f7412-4945-4acc-fc53-fa3879217fa9"
      },
      "source": [
        "# check the number of even and odd in both classes\r\n",
        "print(len(x_train[y_train==1]))\r\n",
        "print(len(x_train[y_train==-1]))"
      ],
      "execution_count": null,
      "outputs": [
        {
          "output_type": "stream",
          "text": [
            "2465\n",
            "2535\n"
          ],
          "name": "stdout"
        }
      ]
    },
    {
      "cell_type": "code",
      "metadata": {
        "id": "XqhRyna42w4-"
      },
      "source": [
        "def PCA(x, y, d):\r\n",
        "    x_mean = np.mean(x, axis=0)\r\n",
        "    x = x - x_mean\r\n",
        "    # compute covariance matrix of x row-wise\r\n",
        "    s_x = np.cov(x.T)\r\n",
        "    # computing eigenvalues of covariance matrix\r\n",
        "    eig_values, eigvectors = np.linalg.eig(s_x)\r\n",
        "    # get the transpose of eigenvectors\r\n",
        "    eigvectors = eigvectors.T\r\n",
        "    # sort the index counter in descending order\r\n",
        "    ix = np.argsort(eig_values)[::-1]\r\n",
        "    eigvalues = eig_values[ix]\r\n",
        "    eigvectors = eigvectors[ix]\r\n",
        "    # compute the new matrix w keeping the d most significant values of the eigenvector\r\n",
        "    w = eigvectors[0:d]\r\n",
        "    # substract mean of training data out of test data\r\n",
        "    y = y - x_mean\r\n",
        "    # project the eigvector onto the train data space\r\n",
        "    pca = np.dot(x, w.T)\r\n",
        "    # project the eigvector onto the test data space\r\n",
        "    pca_test = np.dot(y, w.T)\r\n",
        "    # plot the eigen values and the number of principal components\r\n",
        "    plt.figure(figsize=(10,5))\r\n",
        "    plt.ylabel('Eigen Value')\r\n",
        "    plt.xlabel('# Principal components')\r\n",
        "    plt.ylim(0, 1)\r\n",
        "    plt.scatter(range(eig_values.shape[0]),eigvalues,c = \"purple\", marker = '.')\r\n",
        "    plt.figure()\r\n",
        "    plt.tight_layout()\r\n",
        "    plt.show()\r\n",
        "    return pca, pca_test\r\n"
      ],
      "execution_count": null,
      "outputs": []
    },
    {
      "cell_type": "code",
      "metadata": {
        "id": "PEvNwMXe23MB",
        "colab": {
          "base_uri": "https://localhost:8080/",
          "height": 390
        },
        "outputId": "a692d096-6965-4be8-e055-f5d814a5fb0d"
      },
      "source": [
        "M_p, M_p_te = PCA(x_train, x_test, 200)"
      ],
      "execution_count": null,
      "outputs": [
        {
          "output_type": "stream",
          "text": [
            "/usr/local/lib/python3.6/dist-packages/numpy/core/_asarray.py:136: ComplexWarning: Casting complex values to real discards the imaginary part\n",
            "  return array(a, dtype, copy=False, order=order, subok=True)\n"
          ],
          "name": "stderr"
        },
        {
          "output_type": "display_data",
          "data": {
            "image/png": "[encoded data removed]",
            "text/plain": [
              "<Figure size 720x360 with 1 Axes>"
            ]
          },
          "metadata": {
            "tags": [],
            "needs_background": "light"
          }
        },
        {
          "output_type": "display_data",
          "data": {
            "text/plain": [
              "<Figure size 432x288 with 0 Axes>"
            ]
          },
          "metadata": {
            "tags": []
          }
        }
      ]
    },
    {
      "cell_type": "code",
      "metadata": {
        "colab": {
          "base_uri": "https://localhost:8080/",
          "height": 355
        },
        "id": "UtPqKa-mw6ZL",
        "outputId": "e313bd37-8aea-4e4a-f5ed-2c511d0dea10"
      },
      "source": [
        "import matplotlib.pyplot as plt\r\n",
        "plt.figure(figsize=(10,5))\r\n",
        "b0 = y_train == -1\r\n",
        "b1 = y_train == 1\r\n",
        "p0 = M_p[b0 == 1, :]\r\n",
        "p1 = M_p[b1 == 1, :]\r\n",
        "plt.scatter(p0[:,0], p0[:,1], c=\"navy\", marker='.')\r\n",
        "plt.scatter(p1[:,0], p1[:,1], c=\"violet\", marker='.')\r\n",
        "plt.show()"
      ],
      "execution_count": null,
      "outputs": [
        {
          "output_type": "stream",
          "text": [
            "/usr/local/lib/python3.6/dist-packages/numpy/core/_asarray.py:136: ComplexWarning: Casting complex values to real discards the imaginary part\n",
            "  return array(a, dtype, copy=False, order=order, subok=True)\n"
          ],
          "name": "stderr"
        },
        {
          "output_type": "display_data",
          "data": {
            "image/png": "[encoded data removed]",
            "text/plain": [
              "<Figure size 720x360 with 1 Axes>"
            ]
          },
          "metadata": {
            "tags": [],
            "needs_background": "light"
          }
        }
      ]
    },
    {
      "cell_type": "code",
      "metadata": {
        "id": "kteinSJM1s23"
      },
      "source": [
        "from collections import Counter"
      ],
      "execution_count": null,
      "outputs": []
    },
    {
      "cell_type": "code",
      "metadata": {
        "id": "BnNbyzjn1f8G"
      },
      "source": [
        "# function that caculates the euclidean distance\r\n",
        "def euclidean_distance(x1, x2):\r\n",
        "    return np.sqrt(np.sum((x1 - x2) ** 2))\r\n"
      ],
      "execution_count": null,
      "outputs": []
    },
    {
      "cell_type": "code",
      "metadata": {
        "id": "tw-2MRIX03dO"
      },
      "source": [
        "# the k-nearest neighbor class\r\n",
        "class KNN:\r\n",
        "\r\n",
        "    def __init__(self, k):\r\n",
        "        self.k = k\r\n",
        "\r\n",
        "    def fit(self, X, y):\r\n",
        "        self.X_train = X\r\n",
        "        self.y_train = y\r\n",
        "\r\n",
        "    def predict(self, X):\r\n",
        "        y_pred = [self._predict(x) for x in X]\r\n",
        "        return np.array(y_pred)\r\n",
        "\r\n",
        "    def _predict(self, x):\r\n",
        "        # Compute distances between x and all examples in the training set\r\n",
        "        distances = [euclidean_distance(x, x_train) for x_train in self.X_train]\r\n",
        "        # Sort by distance and return indices of the first k neighbors\r\n",
        "        k_idx = np.argsort(distances)[:self.k]\r\n",
        "        # Get the labels of the k nearest neighbor training samples\r\n",
        "        k_neighbor_labels = [self.y_train[i] for i in k_idx]\r\n",
        "        # return the most common class label\r\n",
        "        most_common = Counter(k_neighbor_labels).most_common(1)\r\n",
        "        return most_common[0][0]"
      ],
      "execution_count": null,
      "outputs": []
    },
    {
      "cell_type": "code",
      "metadata": {
        "id": "ZZjmBDrri_Ni"
      },
      "source": [
        "# the nearest centroid class\r\n",
        "class NearestCentroid:\r\n",
        "    def __init__(self, images, labels):\r\n",
        "        self.images = images\r\n",
        "        self.labels = labels\r\n",
        "        self.num_images = len(images)\r\n",
        "\r\n",
        "    def fit(self):\r\n",
        "        classes = np.unique(self.labels)\r\n",
        "        self.classes = classes\r\n",
        "\r\n",
        "        centroids = np.empty((classes.shape[0], self.images.shape[1]))\r\n",
        "        # master list\r\n",
        "        label_to_image = []                                     \r\n",
        "\r\n",
        "        for cl in classes:\r\n",
        "            # create a list for each class \r\n",
        "            img_label = []                                      \r\n",
        "            for j in range(0, self.num_images):\r\n",
        "                # if the label equals the picture label\r\n",
        "                if self.labels[j] == cl: \r\n",
        "                    # append to list                      \r\n",
        "                    img_label.append(self.images[j])\r\n",
        "            # append to master list                   \r\n",
        "            label_to_image.append(img_label)                    \r\n",
        "        # calculate the mean for centroids\r\n",
        "        for i in range(0, len(classes)):  \r\n",
        "            centroids[i] = np.mean(label_to_image[i], axis=0)\r\n",
        "        self.centroids = centroids\r\n",
        "\r\n",
        "    def predict(self, images):\r\n",
        "        classified = []\r\n",
        "        for image in images:\r\n",
        "            smallest_dist = 99999999\r\n",
        "            cl = None\r\n",
        "            for i, centroid in enumerate(self.centroids):\r\n",
        "               # calculate the distance of the picture to each centroid\r\n",
        "                dist = np.sqrt(np.sum((image - centroid) ** 2)) \r\n",
        "                if dist < smallest_dist:\r\n",
        "                    smallest_dist = dist\r\n",
        "                    cl = i\r\n",
        "            # append classified picture\r\n",
        "            classified.append([cl])                                 \r\n",
        "\r\n",
        "        return classified"
      ],
      "execution_count": null,
      "outputs": []
    },
    {
      "cell_type": "code",
      "metadata": {
        "id": "TDAt-gTG08ju"
      },
      "source": [
        "# fucntion that calculates accuracy\r\n",
        "def accuracy(y_true, y_pred):\r\n",
        "    acc = np.sum(y_true == y_pred) / len(y_true)\r\n",
        "    return acc"
      ],
      "execution_count": null,
      "outputs": []
    },
    {
      "cell_type": "markdown",
      "metadata": {
        "id": "jjaTwEOeRRMG"
      },
      "source": [
        "K - Nearest Neighbor"
      ]
    },
    {
      "cell_type": "code",
      "metadata": {
        "colab": {
          "base_uri": "https://localhost:8080/"
        },
        "id": "XbZMkxpCRJa8",
        "outputId": "aeb24d8b-b612-40b2-dd5d-7357bb8b053f"
      },
      "source": [
        "start = time.time()\r\n",
        "\r\n",
        "clf_knn=KNN(k=3)\r\n",
        "clf_knn.fit(M_p,y_train)\r\n",
        "predicts=clf_knn.predict(M_p_te)\r\n",
        "print(\"k-NN classification accuracy: \", format(accuracy(y_test, predicts) * 100, \".4f\"), \"%\")\r\n",
        "\r\n",
        "end = time.time()\r\n",
        "print(end - start)"
      ],
      "execution_count": null,
      "outputs": [
        {
          "output_type": "stream",
          "text": [
            "k-NN classification accuracy:  95.1429 %\n",
            "28.92301917076111\n"
          ],
          "name": "stdout"
        }
      ]
    },
    {
      "cell_type": "markdown",
      "metadata": {
        "id": "XOIkpSZURa9M"
      },
      "source": [
        "Nearest Centroid"
      ]
    },
    {
      "cell_type": "code",
      "metadata": {
        "id": "lCD6HkuK0_1_",
        "colab": {
          "base_uri": "https://localhost:8080/"
        },
        "outputId": "8bb13c3e-f91c-405f-85aa-52881e4b7443"
      },
      "source": [
        "start = time.time()\r\n",
        "\r\n",
        "\r\n",
        "clf_nc = NearestCentroid(M_p, y_train) # call nearest centroid class\r\n",
        "# fit the training images and labels\r\n",
        "clf_nc.fit()\r\n",
        "# predict results with test images\r\n",
        "predictions2 = clf_nc.predict(M_p_te)\r\n",
        "  \r\n",
        "predictions2 = np.array(predictions2)\r\n",
        "predictions2 = predictions2.flatten()\r\n",
        "predictions2 = np.where(predictions2 <= 0, -1, 1)\r\n",
        "#print(\"Predictions of nearest centroid: \", predictions2)\r\n",
        "# find the accuracy using predicitions and test labels at a scale of 100\r\n",
        "print(\"Nearest Centroid classification accuracy: \", format(accuracy(y_test, predictions2)*100, \".4f\"), \"%\")\r\n",
        "\r\n",
        "end = time.time()\r\n",
        "print(end - start)"
      ],
      "execution_count": null,
      "outputs": [
        {
          "output_type": "stream",
          "text": [
            "Nearest Centroid classification accuracy:  79.8571 %\n",
            "0.03444027900695801\n"
          ],
          "name": "stdout"
        },
        {
          "output_type": "stream",
          "text": [
            "/usr/local/lib/python3.6/dist-packages/ipykernel_launcher.py:28: ComplexWarning: Casting complex values to real discards the imaginary part\n"
          ],
          "name": "stderr"
        }
      ]
    },
    {
      "cell_type": "code",
      "metadata": {
        "colab": {
          "base_uri": "https://localhost:8080/"
        },
        "id": "awCSGlZ-lv9P",
        "outputId": "7161bc9c-9606-46a9-8fc9-3ff5691242ff"
      },
      "source": [
        "pip install libsvm"
      ],
      "execution_count": null,
      "outputs": [
        {
          "output_type": "stream",
          "text": [
            "Collecting libsvm\n",
            "\u001b[?25l  Downloading https://files.pythonhosted.org/packages/4b/11/c7700d0cd3a21eef2d7d996256277fc640ccd4f84717c10228cb6c1567dc/libsvm-3.23.0.4.tar.gz (170kB)\n",
            "\r\u001b[K     |██                              | 10kB 26.3MB/s eta 0:00:01\r\u001b[K     |███▉                            | 20kB 13.3MB/s eta 0:00:01\r\u001b[K     |█████▊                          | 30kB 11.4MB/s eta 0:00:01\r\u001b[K     |███████▊                        | 40kB 11.4MB/s eta 0:00:01\r\u001b[K     |█████████▋                      | 51kB 8.2MB/s eta 0:00:01\r\u001b[K     |███████████▌                    | 61kB 8.6MB/s eta 0:00:01\r\u001b[K     |█████████████▌                  | 71kB 8.6MB/s eta 0:00:01\r\u001b[K     |███████████████▍                | 81kB 9.5MB/s eta 0:00:01\r\u001b[K     |█████████████████▎              | 92kB 9.0MB/s eta 0:00:01\r\u001b[K     |███████████████████▏            | 102kB 7.9MB/s eta 0:00:01\r\u001b[K     |█████████████████████▏          | 112kB 7.9MB/s eta 0:00:01\r\u001b[K     |███████████████████████         | 122kB 7.9MB/s eta 0:00:01\r\u001b[K     |█████████████████████████       | 133kB 7.9MB/s eta 0:00:01\r\u001b[K     |███████████████████████████     | 143kB 7.9MB/s eta 0:00:01\r\u001b[K     |████████████████████████████▉   | 153kB 7.9MB/s eta 0:00:01\r\u001b[K     |██████████████████████████████▊ | 163kB 7.9MB/s eta 0:00:01\r\u001b[K     |████████████████████████████████| 174kB 7.9MB/s \n",
            "\u001b[?25hBuilding wheels for collected packages: libsvm\n",
            "  Building wheel for libsvm (setup.py) ... \u001b[?25l\u001b[?25hdone\n",
            "  Created wheel for libsvm: filename=libsvm-3.23.0.4-cp36-cp36m-linux_x86_64.whl size=233337 sha256=885672edbcb2f252eeaf977e1906992d4f9cb653c93ded5c07d3e7471ce9bb20\n",
            "  Stored in directory: /root/.cache/pip/wheels/5e/9e/b5/dbb033107407eec2f52b8cd24cf024a4b9ec8b62ea5aee995a\n",
            "Successfully built libsvm\n",
            "Installing collected packages: libsvm\n",
            "Successfully installed libsvm-3.23.0.4\n"
          ],
          "name": "stdout"
        }
      ]
    },
    {
      "cell_type": "code",
      "metadata": {
        "colab": {
          "base_uri": "https://localhost:8080/"
        },
        "id": "r0zhHxxtQVq1",
        "outputId": "1072bd1b-a41c-4eba-ba90-d293774c032b"
      },
      "source": [
        "# this cell uses libsvm for classification\r\n",
        "import libsvm\r\n",
        "from libsvm.svmutil import *\r\n",
        "options = '-t 2  -d 3 -c 1'\r\n",
        "start = time.time()\r\n",
        "m=svm_train(y_train,x_train,options)\r\n",
        "svm_predict(y_train,x_train, m)\r\n",
        "p_label, p_acc, p_val = svm_predict(y_test, x_test, m)\r\n",
        "end = time.time()\r\n",
        "print(end - start)\r\n",
        "#print(p_acc) #Print prediction results\r\n"
      ],
      "execution_count": null,
      "outputs": [
        {
          "output_type": "stream",
          "text": [
            "Accuracy = 90.48% (4524/5000) (classification)\n",
            "Accuracy = 89.1429% (624/700) (classification)\n",
            "19.752896785736084\n"
          ],
          "name": "stdout"
        }
      ]
    },
    {
      "cell_type": "code",
      "metadata": {
        "colab": {
          "base_uri": "https://localhost:8080/"
        },
        "id": "u9SohB6nLKlZ",
        "outputId": "c6282097-760d-4dfe-e603-533e3c676359"
      },
      "source": [
        "import sklearn\r\n",
        "from sklearn import svm\r\n",
        "model = svm.SVC(kernel='poly',degree=2,C=100)\r\n",
        "start = time.time()\r\n",
        "model.fit(x_train, y_train)\r\n",
        "model.predict(x_test)\r\n",
        "\r\n",
        "print(format(model.score(x_train,y_train)*100,\".4f\"), \"%\")\r\n",
        "print(format(model.score(x_test,y_test)*100,\".4f\"), \"%\")\r\n",
        "end = time.time()\r\n",
        "print(end - start)"
      ],
      "execution_count": null,
      "outputs": [
        {
          "output_type": "stream",
          "text": [
            "100.0000 %\n",
            "95.8571 %\n",
            "10.844841480255127\n"
          ],
          "name": "stdout"
        }
      ]
    },
    {
      "cell_type": "code",
      "metadata": {
        "id": "u8kU0siTQysz"
      },
      "source": [
        "import cvxopt\r\n",
        "from numpy import linalg\r\n",
        "\r\n",
        "# definition of kernels \r\n",
        "\r\n",
        "def linear_kernel(x, y):\r\n",
        "    return np.dot(x, y)\r\n",
        "\r\n",
        "def polynomial_kernel(x, y, degree=2):\r\n",
        "    return (np.dot(x, y) + 1) ** degree\r\n",
        "\r\n",
        "def gaussian_kernel(x, y, gamma=2):\r\n",
        "    return np.exp((-linalg.norm(x-y)**2) * gamma)\r\n",
        "\r\n",
        "# svm class\r\n",
        "\r\n",
        "class SVM():\r\n",
        "\r\n",
        "  def __init__(self, C=1, kernel=gaussian_kernel):\r\n",
        "    self.kernel = kernel # kernel\r\n",
        "    self.C = C # trade off parameter\r\n",
        "    self.a = None # lagrange multipliers\r\n",
        "    self.bias = None # bias\r\n",
        "  # fit function\r\n",
        "  def fit(self, x, y):\r\n",
        "\r\n",
        "    # get the samples and features\r\n",
        "    rows, columns = x.shape\r\n",
        "    # initialize the kernel matrix\r\n",
        "    k = np.zeros((rows,rows))\r\n",
        "\r\n",
        "    # build the kernel matrix which is NxN (N samples)\r\n",
        "    for i in range(rows):\r\n",
        "      for j in range(rows):\r\n",
        "        k[i,j] = self.kernel(x[i],x[j])\r\n",
        "  \r\n",
        "    # solving the quadratic programming problem with cvxopt\r\n",
        "    P = cvxopt.matrix(np.outer(y, y) * k, tc='d')\r\n",
        "    q = cvxopt.matrix(np.ones(rows) * -1)\r\n",
        "    A = cvxopt.matrix(y, (1, rows), tc='d')\r\n",
        "    b = cvxopt.matrix(0.0)\r\n",
        "\r\n",
        "    # hard margin\r\n",
        "    if not self.C:\r\n",
        "      G = cvxopt.matrix(np.identity(rows) * -1)\r\n",
        "      h = cvxopt.matrix(np.zeros(rows))\r\n",
        "    # soft margin\r\n",
        "    else:\r\n",
        "      G_max = np.identity(rows) * -1\r\n",
        "      G_min = np.identity(rows)\r\n",
        "      G = cvxopt.matrix(np.vstack((G_max, G_min)))\r\n",
        "      h_max = cvxopt.matrix(np.zeros(rows))\r\n",
        "      h_min = cvxopt.matrix(np.ones(rows) * self.C)\r\n",
        "      h = cvxopt.matrix(np.vstack((h_max, h_min)))\r\n",
        "\r\n",
        "    # find the solution \r\n",
        "    sol = cvxopt.solvers.qp(P, q, G, h, A, b)\r\n",
        "    # find lagrange multipliers  \r\n",
        "    lagr_mult = np.ravel(sol['x'])\r\n",
        "\r\n",
        "    # get the index of the non zero lagrange multipliers\r\n",
        "    index = lagr_mult > 0.000001\r\n",
        "    # extract those lagrange multipliers\r\n",
        "    self.a = lagr_mult[index]\r\n",
        "    # find the samples that will be the support vectors\r\n",
        "    self.x_support_vectors = x[index]\r\n",
        "    # find labels of those support vectors\r\n",
        "    self.y_support_vectors = y[index] \r\n",
        "\r\n",
        "    # calculate bias\r\n",
        "    self.bias = self.y_support_vectors[0]\r\n",
        "    for i in range(len(self.a)):\r\n",
        "       self.bias -= self.a[i] * self.y_support_vectors[i] * self.kernel(self.x_support_vectors[i], self.x_support_vectors[0])\r\n",
        "\r\n",
        "  # predict function\r\n",
        "  def predict(self, x):\r\n",
        "\r\n",
        "    y_pred = []\r\n",
        "    # find the decision function\r\n",
        "    for row in x:\r\n",
        "          prediction = 0\r\n",
        "          # find the label of the sample by the support vectors\r\n",
        "          for i in range(len(self.a)):\r\n",
        "              prediction += self.a[i] * self.y_support_vectors[i] * self.kernel(self.x_support_vectors[i], row)\r\n",
        "          # add bias to the decision function    \r\n",
        "          prediction += self.bias\r\n",
        "          # find the sign of the decision function\r\n",
        "          y_pred.append(np.sign(prediction))\r\n",
        "    return np.array(y_pred)\r\n"
      ],
      "execution_count": null,
      "outputs": []
    },
    {
      "cell_type": "code",
      "metadata": {
        "colab": {
          "base_uri": "https://localhost:8080/"
        },
        "id": "kpp4BJo8fSEH",
        "outputId": "1f4efe4b-f17f-4631-d803-0def4ce5220c"
      },
      "source": [
        "import time\r\n",
        "\r\n",
        "start = time.time()\r\n",
        "\r\n",
        "clf_svm = SVM(C=1, kernel=linear_kernel)\r\n",
        "clf_svm.fit(M_p, y_train)\r\n",
        "y_pred = clf_svm.predict(M_p_te)\r\n",
        "y_pred_train = clf_svm.predict(M_p)\r\n",
        "\r\n",
        "end = time.time()\r\n",
        "print(end - start)"
      ],
      "execution_count": null,
      "outputs": [
        {
          "output_type": "stream",
          "text": [
            "/usr/local/lib/python3.6/dist-packages/ipykernel_launcher.py:35: ComplexWarning: Casting complex values to real discards the imaginary part\n"
          ],
          "name": "stderr"
        },
        {
          "output_type": "stream",
          "text": [
            "     pcost       dcost       gap    pres   dres\n",
            " 0: -1.7900e+03 -1.4150e+04  9e+04  3e+00  7e-13\n",
            " 1: -1.1747e+03 -9.7492e+03  2e+04  5e-01  7e-13\n",
            " 2: -9.6316e+02 -4.6293e+03  6e+03  1e-01  5e-13\n",
            " 3: -9.2477e+02 -2.3527e+03  2e+03  5e-02  5e-13\n",
            " 4: -9.7351e+02 -1.5292e+03  7e+02  1e-02  5e-13\n",
            " 5: -1.0122e+03 -1.3433e+03  4e+02  7e-03  5e-13\n",
            " 6: -1.0434e+03 -1.2261e+03  2e+02  2e-03  6e-13\n",
            " 7: -1.0634e+03 -1.1686e+03  1e+02  1e-03  6e-13\n",
            " 8: -1.0787e+03 -1.1319e+03  5e+01  3e-04  6e-13\n",
            " 9: -1.0873e+03 -1.1148e+03  3e+01  7e-05  6e-13\n",
            "10: -1.0936e+03 -1.1048e+03  1e+01  8e-06  7e-13\n",
            "11: -1.0963e+03 -1.1013e+03  5e+00  2e-06  6e-13\n",
            "12: -1.0977e+03 -1.0996e+03  2e+00  5e-07  6e-13\n",
            "13: -1.0983e+03 -1.0989e+03  6e-01  1e-07  6e-13\n",
            "14: -1.0985e+03 -1.0987e+03  2e-01  3e-08  6e-13\n",
            "15: -1.0986e+03 -1.0986e+03  3e-02  3e-09  7e-13\n",
            "16: -1.0986e+03 -1.0986e+03  2e-03  2e-10  7e-13\n",
            "17: -1.0986e+03 -1.0986e+03  4e-05  1e-12  7e-13\n",
            "Optimal solution found.\n",
            "335.94944977760315\n"
          ],
          "name": "stdout"
        }
      ]
    },
    {
      "cell_type": "code",
      "metadata": {
        "colab": {
          "base_uri": "https://localhost:8080/"
        },
        "id": "7sc2KQA1lO73",
        "outputId": "a8b1543e-fefa-48f4-d57c-003f3808fae8"
      },
      "source": [
        "print(\"SVM training accuracy: \", format(accuracy(y_train,y_pred_train)*100,\".4f\"),\"%\")\r\n",
        "print(\"SVM testing accuracy: \",format(accuracy(y_test,y_pred)*100,\".4f\"),\"%\")"
      ],
      "execution_count": null,
      "outputs": [
        {
          "output_type": "stream",
          "text": [
            "SVM training accuracy:  91.7400 %\n",
            "SVM testing accuracy:  89.1400 %\n"
          ],
          "name": "stdout"
        }
      ]
    },
    {
      "cell_type": "code",
      "metadata": {
        "id": "1TjeSfOurGaM"
      },
      "source": [
        ""
      ],
      "execution_count": null,
      "outputs": []
    }
  ]
}